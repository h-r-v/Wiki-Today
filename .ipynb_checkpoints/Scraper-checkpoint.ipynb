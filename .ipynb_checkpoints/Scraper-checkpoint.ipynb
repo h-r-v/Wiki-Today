{
 "cells": [
  {
   "cell_type": "code",
   "execution_count": 93,
   "metadata": {},
   "outputs": [],
   "source": [
    "base = 'https://www.wikipedia.org/wiki/'\n",
    "date = 'February_29'\n",
    "url = base+date\n",
    "features = ['Events', 'Births', 'Deaths', 'Holidays_and_observances']"
   ]
  },
  {
   "cell_type": "code",
   "execution_count": 94,
   "metadata": {
    "scrolled": true
   },
   "outputs": [
    {
     "name": "stdout",
     "output_type": "stream",
     "text": [
      "468 – Pope Hilarius\n",
      "992 – Oswald of Worcester, Anglo-Saxon archbishop and saint (b. 925)\n",
      "1212 – Hōnen, Japanese monk, founded Jōdo-shū (b. 1133)\n",
      "1460 – Albert III, Duke of Bavaria-Munich (b. 1401)\n",
      "1528 – Patrick Hamilton, Scottish Protestant reformer and martyr (b. 1504)\n",
      "1592 – Alessandro Striggio, Italian composer and diplomat (b. 1540)\n",
      "1600 – Caspar Hennenberger, German pastor, historian and cartographer (b. 1529)\n",
      "1604 – John Whitgift, English archbishop and academic (b. 1530)\n",
      "1740 – Pietro Ottoboni, Italian cardinal (b. 1667)\n",
      "1744 – John Theophilus Desaguliers, French-English physicist and philosopher (b. 1683)\n",
      "1792 – Johann Andreas Stein, German piano builder (b. 1728)\n",
      "1820 – Johann Joachim Eschenburg, German historian and critic (b. 1743)\n",
      "1848 – Louis-François Lejeune, French general, painter and lithographer (b. 1775)\n",
      "1852 – Matsudaira Katataka, Japanese daimyō (b. 1806)\n",
      "1868 – Ludwig I of Bavaria (b. 1786)\n",
      "1880 – James Milne Wilson, Scottish-Australian soldier and politician, 8th Premier of Tasmania (b. February 29, 1812)\n",
      "1908\n",
      "Pat Garrett, American sheriff (b. 1850)\n",
      "John Hope, 1st Marquess of Linlithgow, Scottish-Australian politician, 1st  Governor-General of Australia (b. 1860)\n",
      "1920 – Ernie Courtney, American baseball player (b. 1875)\n",
      "1928\n",
      "Adolphe Appia, Swiss architect and theorist (b. 1862)\n",
      "Ina Coolbrith, American poet and librarian (b. 1841)\n",
      "1940 – E. F. Benson, English archaeologist and author (b. 1867)\n",
      "1944 – Pehr Evind Svinhufvud, Finnish lawyer, judge and politician, 3rd  President of Finland (b. 1861)\n",
      "1948\n",
      "Robert Barrington-Ward, English lawyer and journalist (b. 1891)\n",
      "Rebel Oakes, American baseball player and manager (b. 1883)\n",
      "1952 – Quo Tai-chi, Chinese politician and diplomat,  Permanent Representative of China to the United Nations (b. 1888)\n",
      "1956 – Elpidio Quirino, Filipino lawyer and politician, 6th  President of the Philippines (b. 1890)\n",
      "1960\n",
      "Melvin Purvis, American police officer and  FBI agent (b. 1903)\n",
      "Walter Yust, American journalist and author (b. 1894)\n",
      "1964 – Frank Albertson, American actor and singer (b. 1909)\n",
      "1968\n",
      "Lena Blackburne, American baseball player, coach and manager (b. 1886)\n",
      "Tore Ørjasæter, Norwegian poet and educator (b. 1886)\n",
      "1972 – Tom Davies, American football player and coach (b. 1896)\n",
      "1976 – Florence P. Dwyer, American politician (b. 1902)\n",
      "1980\n",
      "Yigal Allon, Israeli general and politician,  Prime Minister of Israel (b. 1918)\n",
      "Gil Elvgren, American painter and illustrator (b. 1914)\n",
      "1984 – Ludwik Starski, Polish screenwriter and songwriter (b. 1903)\n",
      "1988 – Sidney Harmon, American screenwriter and producer (b. 1907)\n",
      "1992 – Ruth Pitter, English poet and author (b. 1897)\n",
      "1996\n",
      "Wes Farrell, American singer-songwriter and producer (b. 1939)\n",
      "Ralph Rowe, American baseball player, coach and manager (b. 1924)\n",
      "2000 – Dennis Danell, American guitarist (b. 1961)\n",
      "2004\n",
      "Kagamisato Kiyoji, Japanese sumo wrestler, the 42nd  Yokozuna (b. 1923)\n",
      "Jerome Lawrence, American playwright and author (b. 1915)\n",
      "Harold Bernard St. John, Barbadian lawyer and politician, 3rd  Prime Minister of Barbados (b. 1931)\n",
      "Lorrie Wilmot, South African cricketer (b. 1943)\n",
      "2008\n",
      "Janet Kagan, American author (b. 1946)\n",
      "Erik Ortvad, Danish painter and illustrator (b. 1917)\n",
      "Akira Yamada, Japanese scholar and philosopher (b. 1922)\n",
      "2012\n",
      "Roland Bautista, American guitarist (b. 1951)\n",
      "Davy Jones, English singer, guitarist and actor (b. 1945)\n",
      "Sheldon Moldoff, American illustrator (b. 1920)\n",
      "P. K. Narayana Panicker, Indian social leader (b. 1930)\n",
      "2016\n",
      "Wenn V. Deramas, Filipino director and screenwriter (b. 1966)\n",
      "Gil Hill, American police officer, actor and politician (b. 1931)\n",
      "Josefin Nilsson, Swedish singer (b. 1969)\n",
      "Louise Rennison, English author (b. 1951)[31]\n",
      "Mumtaz Qadri, Pakistani assassin (b. 1985)[32]\n",
      "\n"
     ]
    }
   ],
   "source": [
    "from urllib.request import urlopen\n",
    "from urllib.error import HTTPError, URLError\n",
    "from bs4 import BeautifulSoup\n",
    "\n",
    "try:\n",
    "    r = urlopen(url)\n",
    "except HTTPError as e:\n",
    "    print(e)\n",
    "except URLError as e:\n",
    "    print(e)\n",
    "\n",
    "bs = BeautifulSoup(r)\n",
    "headings = bs.findAll('span', {'class':'mw-headline', 'id':features})\n",
    "\n",
    "for heading in headings:\n",
    "    print( heading.parent.find_next_sibling('ul').get_text(), end='\\n\\n')"
   ]
  },
  {
   "cell_type": "code",
   "execution_count": null,
   "metadata": {},
   "outputs": [],
   "source": []
  }
 ],
 "metadata": {
  "kernelspec": {
   "display_name": "Python 3",
   "language": "python",
   "name": "python3"
  },
  "language_info": {
   "codemirror_mode": {
    "name": "ipython",
    "version": 3
   },
   "file_extension": ".py",
   "mimetype": "text/x-python",
   "name": "python",
   "nbconvert_exporter": "python",
   "pygments_lexer": "ipython3",
   "version": "3.8.5"
  }
 },
 "nbformat": 4,
 "nbformat_minor": 4
}
